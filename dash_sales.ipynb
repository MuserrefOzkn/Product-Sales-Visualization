{
 "cells": [
  {
   "cell_type": "code",
   "execution_count": 1,
   "metadata": {},
   "outputs": [
    {
     "name": "stderr",
     "output_type": "stream",
     "text": [
      "C:\\Users\\muser\\AppData\\Local\\Temp\\ipykernel_10168\\2343935479.py:3: UserWarning: \n",
      "The dash_core_components package is deprecated. Please replace\n",
      "`import dash_core_components as dcc` with `from dash import dcc`\n",
      "  import dash_core_components as dcc\n",
      "C:\\Users\\muser\\AppData\\Local\\Temp\\ipykernel_10168\\2343935479.py:4: UserWarning: \n",
      "The dash_html_components package is deprecated. Please replace\n",
      "`import dash_html_components as html` with `from dash import html`\n",
      "  import dash_html_components as html\n"
     ]
    }
   ],
   "source": [
    "import pandas as pd\n",
    "import dash\n",
    "import dash_core_components as dcc\n",
    "import dash_html_components as html\n",
    "import plotly.express as px\n",
    "from dash.dependencies import Input, Output\n",
    "import dash_pivottable\n",
    "from jupyter_dash import JupyterDash\n",
    "from plotly.subplots import make_subplots\n",
    "import plotly.graph_objects as go"
   ]
  },
  {
   "cell_type": "code",
   "execution_count": 2,
   "metadata": {},
   "outputs": [
    {
     "name": "stdout",
     "output_type": "stream",
     "text": [
      "<class 'pandas.core.frame.DataFrame'>\n",
      "Int64Index: 34866 entries, 0 to 34865\n",
      "Data columns (total 14 columns):\n",
      " #   Column            Non-Null Count  Dtype  \n",
      "---  ------            --------------  -----  \n",
      " 0   Date              34866 non-null  object \n",
      " 1   Year              34866 non-null  float64\n",
      " 2   Month             34866 non-null  object \n",
      " 3   Customer Age      34866 non-null  float64\n",
      " 4   Customer Gender   34866 non-null  object \n",
      " 5   Country           34866 non-null  object \n",
      " 6   State             34866 non-null  object \n",
      " 7   Product Category  34866 non-null  object \n",
      " 8   Sub Category      34866 non-null  object \n",
      " 9   Quantity          34866 non-null  float64\n",
      " 10  Unit Cost         34866 non-null  float64\n",
      " 11  Unit Price        34866 non-null  float64\n",
      " 12  Cost              34866 non-null  float64\n",
      " 13  Revenue           34866 non-null  float64\n",
      "dtypes: float64(7), object(7)\n",
      "memory usage: 4.0+ MB\n"
     ]
    }
   ],
   "source": [
    "data = pd.read_csv(\"Sales.csv\")\n",
    "#Drop insignificant columns\n",
    "data = data.drop(columns=['index','Column1'],axis=1)\n",
    "data = data.dropna(axis=0)\n",
    "data.info()"
   ]
  },
  {
   "cell_type": "code",
   "execution_count": 3,
   "metadata": {},
   "outputs": [
    {
     "data": {
      "text/plain": [
       "0       2016-02-19\n",
       "1       2016-02-20\n",
       "2       2016-02-27\n",
       "3       2016-03-12\n",
       "4       2016-03-12\n",
       "           ...    \n",
       "34861   2015-03-22\n",
       "34862   2016-02-07\n",
       "34863   2015-03-13\n",
       "34864   2015-04-05\n",
       "34865   2015-08-30\n",
       "Name: Date, Length: 34866, dtype: datetime64[ns]"
      ]
     },
     "execution_count": 3,
     "metadata": {},
     "output_type": "execute_result"
    }
   ],
   "source": [
    "#Set Date column\n",
    "for i,date in enumerate(data[\"Date\"]):\n",
    "    data.iloc[i,0] = date[:6]+\"20\" + date[6:]\n",
    "\n",
    "data[\"Date\"] = pd.to_datetime(data[\"Date\"])\n",
    "data[\"Date\"]"
   ]
  },
  {
   "cell_type": "code",
   "execution_count": 5,
   "metadata": {},
   "outputs": [
    {
     "name": "stdout",
     "output_type": "stream",
     "text": [
      "Dash app running on http://127.0.0.1:8050/\n"
     ]
    },
    {
     "name": "stderr",
     "output_type": "stream",
     "text": [
      "c:\\Users\\muser\\anaconda3\\lib\\site-packages\\plotly\\graph_objs\\_deprecations.py:378: DeprecationWarning:\n",
      "\n",
      "plotly.graph_objs.Line is deprecated.\n",
      "Please replace it with one of the following more specific types\n",
      "  - plotly.graph_objs.scatter.Line\n",
      "  - plotly.graph_objs.layout.shape.Line\n",
      "  - etc.\n",
      "\n",
      "\n"
     ]
    }
   ],
   "source": [
    "# Create a dash application\n",
    "app = JupyterDash(__name__)\n",
    "server = app.server\n",
    "\n",
    "#Compute quantity and revenue by month\n",
    "def choice_month(df):\n",
    "    monthly_df = df.groupby([\"Month\",\"Product Category\",\"Sub Category\"])[[\"Quantity\",\"Revenue\"]].sum().reset_index()\n",
    "    return monthly_df\n",
    "\n",
    "#Compute quantity and revenue by day\n",
    "def choice_daily(df):\n",
    "    daily_df = df.groupby([\"Date\",\"Product Category\",\"Sub Category\"])[[\"Quantity\",\"Revenue\"]].sum().reset_index()\n",
    "    return daily_df\n",
    "\n",
    "# Application layout\n",
    "app.layout = html.Div(children = [html.H1(\"Sales Dasboard\", style= {\"textAlign\":\"center\", \"font-size\":40}),\n",
    "                                  html.Div([\n",
    "                                    html.Div([\n",
    "                                        html.Div([\n",
    "                                            html.H2(\"Report Type: \", style={'margin-right': '2em'})\n",
    "                                            ]),\n",
    "                                            \n",
    "                                            dcc.Dropdown(id=\"input-1\",options=[{\"label\":\"Monthly\",\"value\":\"Monthly\"},\n",
    "                                                                               {\"label\":\"Daily\",\"value\":\"Daily\"}])\n",
    "                                                                                                    \n",
    "                                        ]),\n",
    "\n",
    "                                        html.Div([\n",
    "                                            html.Div([\n",
    "                                                html.H2(\"Product Type: \",style={\"margin-right\":\"2em\"})\n",
    "                                            ]),\n",
    "                                            dcc.Dropdown(id=\"input-2\",options=[{\"label\":\"Accessories\",\"value\":\"Accessories\"},\n",
    "                                                                                {\"label\":\"Clothing\",\"value\":\"Clothing\"},\n",
    "                                                                                {\"label\":\"Bikes\",\"value\":\"Bikes\"}])\n",
    "                                        ]),\n",
    "\n",
    "                                      \n",
    "                                    \n",
    "                                    html.Div([],id=\"plot-1\"),\n",
    "                                    html.Div([],id=\"plot-2\"),\n",
    "                                    html.Div([],id=\"plot-3\")\n",
    "                                    \n",
    "                                    \n",
    "                                ])\n",
    "    \n",
    "])\n",
    "\n",
    "@app.callback([Output(component_id='plot-1', component_property='children'),Output(component_id='plot-2', component_property='children'),\n",
    "                Output(component_id='plot-3', component_property='children')],\n",
    "               [Input(component_id='input-1', component_property='value'), Input(component_id='input-2', component_property='value')])\n",
    "\n",
    "def get_graph(chart,prod_cat):\n",
    "    # Select data\n",
    "    df = data[data[\"Product Category\"]==prod_cat]\n",
    "\n",
    "    if chart == \"Monthly\":\n",
    "        monthly_df = choice_month(df)\n",
    "        #Graph of quantity of all product sales by month\n",
    "        fig_quantity = px.bar(monthly_df,x=\"Month\",y=\"Quantity\")\n",
    "        fig_quantity.update_xaxes(categoryorder=\"array\",categoryarray=[\"January\", \"February\", \"March\", \"April\",\"May\",\"June\",\"July\",\"August\",\"September\",\"October\",\"November\",\"December\"])\n",
    "        \n",
    "        #Create subplot\n",
    "        fig = make_subplots(rows=8,cols=1)\n",
    "        #Add a quantity graph for product category's each sub category\n",
    "        i = 1\n",
    "        for category in monthly_df[\"Sub Category\"].unique():\n",
    "            data_categorical = monthly_df[monthly_df[\"Sub Category\"] == category]\n",
    "            fig.add_trace(go.Bar(x = data_categorical[\"Month\"],y=data_categorical[\"Quantity\"],name=category),row=i,col=1)\n",
    "            i = i+1\n",
    "        \n",
    "        #Create subplot\n",
    "        fig2 = make_subplots(rows=8,cols=1)\n",
    "        i = 1\n",
    "        #Add a revenue graph for product category's each sub category\n",
    "        for category in monthly_df[\"Sub Category\"].unique():\n",
    "            data_categorical = monthly_df[monthly_df[\"Sub Category\"] == category]\n",
    "            fig2.add_trace(go.Bar(x = data_categorical[\"Month\"],y=data_categorical[\"Revenue\"],name=category),row=i,col=1)\n",
    "            i = i+1\n",
    "\n",
    "        #Set graph's height and title\n",
    "        fig.update_layout(height=800,title_text=\"Graphs of Monthly Quantity\")\n",
    "        #Set graph's x axis order\n",
    "        fig.update_xaxes(categoryorder=\"array\",categoryarray=[\"January\", \"February\", \"March\", \"April\",\"May\",\"June\",\"July\",\"August\",\"September\",\"October\",\"November\",\"December\"])\n",
    "        fig2.update_layout(height=800,title_text=\"Graphs of Monthly Revenue\")\n",
    "        \n",
    "        return(dcc.Graph(figure=fig_quantity),dcc.Graph(figure=fig),dcc.Graph(figure=fig2))\n",
    "\n",
    "    else:\n",
    "        daily_df = choice_daily(df)\n",
    "        fig_quantity = px.line(daily_df,x=\"Date\",y=\"Quantity\")\n",
    "\n",
    "        #Create subplot\n",
    "        fig = make_subplots(rows=8,cols=1)\n",
    "        #Add a quantity graph for product category's each sub category\n",
    "        i = 1\n",
    "        for category in daily_df[\"Sub Category\"].unique():\n",
    "            data_categorical = daily_df[daily_df[\"Sub Category\"] == category]\n",
    "            fig.add_trace(go.Line(x = data_categorical[\"Date\"],y=data_categorical[\"Quantity\"],name=category),row=i,col=1)\n",
    "            i = i+1\n",
    "\n",
    "        #Create subplot\n",
    "        fig2 = make_subplots(rows=8,cols=1)\n",
    "        i = 1\n",
    "        #Add a quantity graph for product category's each sub category\n",
    "        for category in daily_df[\"Sub Category\"].unique():\n",
    "            data_categorical = daily_df[daily_df[\"Sub Category\"] == category]\n",
    "            fig2.add_trace(go.Bar(x = data_categorical[\"Date\"],y=data_categorical[\"Revenue\"],name=category),row=i,col=1)\n",
    "            i = i+1\n",
    "\n",
    "        #Set graph's height and title\n",
    "        fig.update_layout(height=800,title_text=\"Graphs of Daily Quantity\")\n",
    "        fig2.update_layout(height=800,title_text=\"Graphs of Daily Revenue\")\n",
    "        \n",
    "        return(dcc.Graph(figure=fig_quantity),dcc.Graph(figure=fig),dcc.Graph(figure=fig2))\n",
    "\n",
    "if __name__ == \"__main__\":\n",
    "    app.run_server(debug=True)"
   ]
  },
  {
   "cell_type": "code",
   "execution_count": null,
   "metadata": {},
   "outputs": [],
   "source": []
  }
 ],
 "metadata": {
  "kernelspec": {
   "display_name": "base",
   "language": "python",
   "name": "python3"
  },
  "language_info": {
   "codemirror_mode": {
    "name": "ipython",
    "version": 3
   },
   "file_extension": ".py",
   "mimetype": "text/x-python",
   "name": "python",
   "nbconvert_exporter": "python",
   "pygments_lexer": "ipython3",
   "version": "3.9.12"
  },
  "orig_nbformat": 4,
  "vscode": {
   "interpreter": {
    "hash": "c881c981974d1277f7400ccc3574e04ed710c1350960151bc46c299926b2e061"
   }
  }
 },
 "nbformat": 4,
 "nbformat_minor": 2
}
